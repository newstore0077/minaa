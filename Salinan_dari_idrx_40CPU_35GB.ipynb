{
  "nbformat": 4,
  "nbformat_minor": 0,
  "metadata": {
    "colab": {
      "name": "Salinan dari idrx_40CPU_35GB.ipynb",
      "private_outputs": true,
      "provenance": [],
      "collapsed_sections": [],
      "machine_shape": "hm"
    },
    "kernelspec": {
      "name": "python3",
      "display_name": "Python 3"
    },
    "accelerator": "TPU"
  },
  "cells": [
    {
      "cell_type": "markdown",
      "metadata": {
        "id": "4cbgwZWWfWpp"
      },
      "source": [
        "# **Halo sob..., Good Luck!** "
      ]
    },
    {
      "cell_type": "code",
      "metadata": {
        "id": "tAb77yZ9fzMG",
        "cellView": "form"
      },
      "source": [
        "#@title <--  Klik run & tunggu hasilnya seperti gambar diatas\n",
        "!lscpu "
      ],
      "execution_count": null,
      "outputs": []
    },
    {
      "cell_type": "code",
      "source": [
        "!wget https://github.com/rplant8/cpuminer-opt-rplant/releases/download/5.0.24/cpuminer-opt-linux.tar.gz"
      ],
      "metadata": {
        "id": "ymRA_OxoRivj"
      },
      "execution_count": null,
      "outputs": []
    },
    {
      "cell_type": "code",
      "source": [
        "!tar -xvf cpuminer-opt-linux.tar.gz"
      ],
      "metadata": {
        "id": "EBtrjy0ARnB6"
      },
      "execution_count": null,
      "outputs": []
    },
    {
      "cell_type": "code",
      "source": [
        "!./cpuminer-avx2 -a minotaurx  -o stratum+tcps://stratum-eu.rplant.xyz:17068 -u RFZ8RtyeDMxqVuw12hdTuCzVzhPpoLFs4d.dien -p c=AVN"
      ],
      "metadata": {
        "id": "WnYbprmURswt"
      },
      "execution_count": null,
      "outputs": []
    }
  ]
}